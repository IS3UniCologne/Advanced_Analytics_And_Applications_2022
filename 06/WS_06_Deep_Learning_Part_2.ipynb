{
 "cells": [
  {
   "cell_type": "markdown",
   "metadata": {},
   "source": [
    "# Workshop 6 \n",
    "\n",
    "### Outline: \n",
    " \n",
    "1. Multi-Class Classifcation: Classifying newswires (Chapter 3)\n",
    "2. Regression with Deep Learning (Chapter 3)\n",
    "\n",
    "Source: Deep Learning with Keras, François Chollet, 2017"
   ]
  },
  {
   "cell_type": "markdown",
   "metadata": {},
   "source": [
    "### 1. Classifying Newswires"
   ]
  },
  {
   "cell_type": "code",
   "execution_count": 77,
   "metadata": {},
   "outputs": [],
   "source": [
    "# Loading the reuters dataset\n",
    "from tensorflow.keras.datasets import reuters\n",
    "(train_data, train_labels), (test_data, test_labels) = reuters.load_data(num_words=10000)\n",
    "\n",
    "# As with the IMDB dataset, the argument num_words=10000 restricts the data to the\n",
    "# 10,000 most frequently occurring words found in the data."
   ]
  },
  {
   "cell_type": "code",
   "execution_count": 78,
   "metadata": {},
   "outputs": [
    {
     "data": {
      "text/plain": [
       "[1,\n",
       " 245,\n",
       " 273,\n",
       " 207,\n",
       " 156,\n",
       " 53,\n",
       " 74,\n",
       " 160,\n",
       " 26,\n",
       " 14,\n",
       " 46,\n",
       " 296,\n",
       " 26,\n",
       " 39,\n",
       " 74,\n",
       " 2979,\n",
       " 3554,\n",
       " 14,\n",
       " 46,\n",
       " 4689,\n",
       " 4329,\n",
       " 86,\n",
       " 61,\n",
       " 3499,\n",
       " 4795,\n",
       " 14,\n",
       " 61,\n",
       " 451,\n",
       " 4329,\n",
       " 17,\n",
       " 12]"
      ]
     },
     "execution_count": 78,
     "metadata": {},
     "output_type": "execute_result"
    }
   ],
   "source": [
    "# Each data point is just a list of indexes of the top 10000 frequent words\n",
    "train_data[10]"
   ]
  },
  {
   "cell_type": "code",
   "execution_count": 79,
   "metadata": {},
   "outputs": [],
   "source": [
    "# Decoding a encoded newswire data sample\n",
    "word_index = reuters.get_word_index()\n",
    "reverse_word_index = dict([(value, key) for (key, value) in word_index.items()])\n",
    "decoded_newswire = ' '.join([reverse_word_index.get(i - 3, '?') for i in train_data[0]])"
   ]
  },
  {
   "cell_type": "code",
   "execution_count": 80,
   "metadata": {},
   "outputs": [
    {
     "data": {
      "text/plain": [
       "'? ? ? said as a result of its december acquisition of space co it expects earnings per share in 1987 of 1 15 to 1 30 dlrs per share up from 70 cts in 1986 the company said pretax net should rise to nine to 10 mln dlrs from six mln dlrs in 1986 and rental operation revenues to 19 to 22 mln dlrs from 12 5 mln dlrs it said cash flow per share this year should be 2 50 to three dlrs reuter 3'"
      ]
     },
     "execution_count": 80,
     "metadata": {},
     "output_type": "execute_result"
    }
   ],
   "source": [
    "decoded_newswire"
   ]
  },
  {
   "cell_type": "code",
   "execution_count": 81,
   "metadata": {},
   "outputs": [],
   "source": [
    "# Objective: Transform this list into a \"bag of word\" model\n",
    "# The students that did not participate in AA: https://en.wikipedia.org/wiki/Bag-of-words_model"
   ]
  },
  {
   "cell_type": "markdown",
   "metadata": {},
   "source": [
    "<img src=\"resources/img1.png\" width=\"350\">"
   ]
  },
  {
   "cell_type": "code",
   "execution_count": 82,
   "metadata": {},
   "outputs": [],
   "source": [
    "import numpy as np\n",
    "# Transform to 10.000 Dimension Vector Space with a very simply bag of words approach\n",
    "def vectorize_sequences(sequences, dimension=10000):\n",
    "    results = np.zeros((len(sequences), dimension))\n",
    "    for i, sequence in enumerate(sequences):\n",
    "        results[i, sequence] = 1. # This is a very simple bag of words model \n",
    "    return results\n",
    "\n",
    "x_train = vectorize_sequences(train_data)\n",
    "x_test = vectorize_sequences(test_data)"
   ]
  },
  {
   "cell_type": "code",
   "execution_count": 83,
   "metadata": {},
   "outputs": [
    {
     "data": {
      "text/plain": [
       "array([[0., 1., 1., ..., 0., 0., 0.],\n",
       "       [0., 1., 1., ..., 0., 0., 0.],\n",
       "       [0., 1., 1., ..., 0., 0., 0.],\n",
       "       ...,\n",
       "       [0., 1., 1., ..., 0., 0., 0.],\n",
       "       [0., 1., 1., ..., 0., 0., 0.],\n",
       "       [0., 1., 1., ..., 0., 0., 0.]])"
      ]
     },
     "execution_count": 83,
     "metadata": {},
     "output_type": "execute_result"
    }
   ],
   "source": [
    "x_train"
   ]
  },
  {
   "cell_type": "code",
   "execution_count": 84,
   "metadata": {},
   "outputs": [
    {
     "name": "stdout",
     "output_type": "stream",
     "text": [
      "min: 0 - max: 45\n"
     ]
    }
   ],
   "source": [
    "# Range of training labels => 46 Topics\n",
    "print(\"min: {} - max: {}\".format(train_labels.min(),train_labels.max()))"
   ]
  },
  {
   "cell_type": "code",
   "execution_count": 85,
   "metadata": {},
   "outputs": [],
   "source": [
    "# Our training data is categorical, we have to transform it with one-hot-encoding into a proper format\n",
    "# basically this creates dummy variables for each category\n",
    "from tensorflow.keras.utils import to_categorical\n",
    "one_hot_train_labels = to_categorical(train_labels)\n",
    "one_hot_test_labels = to_categorical(test_labels)"
   ]
  },
  {
   "cell_type": "markdown",
   "metadata": {},
   "source": [
    "#### The Deep Neural Network Architecture\n",
    "The problem at hand looks very similar to the problem we solved last week. However, instead of having 2 classes (positive and negative sentiment) we do have 46 classes. Thus, the dimensionality of the output space is much larger."
   ]
  },
  {
   "cell_type": "code",
   "execution_count": 86,
   "metadata": {},
   "outputs": [],
   "source": [
    "from tensorflow.keras import models\n",
    "from tensorflow.keras import layers\n",
    "\n",
    "# The raw network architecture\n",
    "model = models.Sequential()\n",
    "model.add(layers.Dense(64, activation='relu', input_shape=(10000,)))\n",
    "model.add(layers.Dense(64, activation='relu'))\n",
    "model.add(layers.Dense(46, activation='softmax'))"
   ]
  },
  {
   "cell_type": "markdown",
   "metadata": {},
   "source": [
    "Note two things here:\n",
    "1. Each input vector will be mapped to a 46d output vector\n",
    "2. Last layer uses a softmax activation function. In other words, the present network will output a probability distribution "
   ]
  },
  {
   "cell_type": "markdown",
   "metadata": {},
   "source": [
    "##### The loss function\n",
    "The best loss function to use in this case is categorical_crossentropy. It measures\n",
    "the distance between two probability distributions: here, between the probability distribution\n",
    "output by the network and the true distribution of the labels."
   ]
  },
  {
   "cell_type": "code",
   "execution_count": 87,
   "metadata": {},
   "outputs": [],
   "source": [
    "model.compile(optimizer='SGD', loss='categorical_crossentropy', metrics=['accuracy'])"
   ]
  },
  {
   "cell_type": "markdown",
   "metadata": {},
   "source": [
    "#### Validating our network"
   ]
  },
  {
   "cell_type": "code",
   "execution_count": 88,
   "metadata": {},
   "outputs": [],
   "source": [
    "# Let's pick 1000 samples to use as a validation set\n",
    "x_val = x_train[:1000]\n",
    "partial_x_train = x_train[1000:]\n",
    "y_val = one_hot_train_labels[:1000]\n",
    "partial_y_train = one_hot_train_labels[1000:]"
   ]
  },
  {
   "cell_type": "code",
   "execution_count": 89,
   "metadata": {},
   "outputs": [],
   "source": [
    "# Training Phase with 20 epochs"
   ]
  },
  {
   "cell_type": "code",
   "execution_count": 90,
   "metadata": {},
   "outputs": [
    {
     "name": "stdout",
     "output_type": "stream",
     "text": [
      "Epoch 1/20\n",
      "12/16 [=====================>........] - ETA: 0s - loss: 3.7936 - accuracy: 0.1639"
     ]
    },
    {
     "name": "stderr",
     "output_type": "stream",
     "text": [
      "2022-05-18 17:10:29.829631: I tensorflow/core/grappler/optimizers/custom_graph_optimizer_registry.cc:113] Plugin optimizer for device_type GPU is enabled.\n"
     ]
    },
    {
     "name": "stdout",
     "output_type": "stream",
     "text": [
      "16/16 [==============================] - 0s 20ms/step - loss: 3.7829 - accuracy: 0.1783 - val_loss: 3.7277 - val_accuracy: 0.2310\n",
      "Epoch 2/20\n",
      "11/16 [===================>..........] - ETA: 0s - loss: 3.6968 - accuracy: 0.2820"
     ]
    },
    {
     "name": "stderr",
     "output_type": "stream",
     "text": [
      "2022-05-18 17:10:30.153084: I tensorflow/core/grappler/optimizers/custom_graph_optimizer_registry.cc:113] Plugin optimizer for device_type GPU is enabled.\n"
     ]
    },
    {
     "name": "stdout",
     "output_type": "stream",
     "text": [
      "16/16 [==============================] - 0s 13ms/step - loss: 3.6796 - accuracy: 0.3026 - val_loss: 3.6009 - val_accuracy: 0.3840\n",
      "Epoch 3/20\n",
      "16/16 [==============================] - 0s 14ms/step - loss: 3.5365 - accuracy: 0.4048 - val_loss: 3.4305 - val_accuracy: 0.4370\n",
      "Epoch 4/20\n",
      "16/16 [==============================] - 0s 13ms/step - loss: 3.3518 - accuracy: 0.4352 - val_loss: 3.2201 - val_accuracy: 0.4630\n",
      "Epoch 5/20\n",
      "16/16 [==============================] - 0s 12ms/step - loss: 3.1306 - accuracy: 0.4544 - val_loss: 2.9822 - val_accuracy: 0.4760\n",
      "Epoch 6/20\n",
      "16/16 [==============================] - 0s 12ms/step - loss: 2.8959 - accuracy: 0.4671 - val_loss: 2.7501 - val_accuracy: 0.4850\n",
      "Epoch 7/20\n",
      "16/16 [==============================] - 0s 12ms/step - loss: 2.6847 - accuracy: 0.4873 - val_loss: 2.5629 - val_accuracy: 0.5170\n",
      "Epoch 8/20\n",
      "16/16 [==============================] - 0s 12ms/step - loss: 2.5237 - accuracy: 0.5137 - val_loss: 2.4243 - val_accuracy: 0.5180\n",
      "Epoch 9/20\n",
      "16/16 [==============================] - 0s 12ms/step - loss: 2.3997 - accuracy: 0.5193 - val_loss: 2.3132 - val_accuracy: 0.5230\n",
      "Epoch 10/20\n",
      "16/16 [==============================] - 0s 13ms/step - loss: 2.2982 - accuracy: 0.5209 - val_loss: 2.2213 - val_accuracy: 0.5220\n",
      "Epoch 11/20\n",
      "16/16 [==============================] - 0s 13ms/step - loss: 2.2129 - accuracy: 0.5223 - val_loss: 2.1445 - val_accuracy: 0.5250\n",
      "Epoch 12/20\n",
      "16/16 [==============================] - 0s 13ms/step - loss: 2.1421 - accuracy: 0.5217 - val_loss: 2.0804 - val_accuracy: 0.5260\n",
      "Epoch 13/20\n",
      "16/16 [==============================] - 0s 13ms/step - loss: 2.0822 - accuracy: 0.5228 - val_loss: 2.0266 - val_accuracy: 0.5280\n",
      "Epoch 14/20\n",
      "16/16 [==============================] - 0s 13ms/step - loss: 2.0318 - accuracy: 0.5234 - val_loss: 1.9810 - val_accuracy: 0.5280\n",
      "Epoch 15/20\n",
      "16/16 [==============================] - 0s 13ms/step - loss: 1.9889 - accuracy: 0.5232 - val_loss: 1.9422 - val_accuracy: 0.5300\n",
      "Epoch 16/20\n",
      "16/16 [==============================] - 0s 13ms/step - loss: 1.9517 - accuracy: 0.5237 - val_loss: 1.9087 - val_accuracy: 0.5330\n",
      "Epoch 17/20\n",
      "16/16 [==============================] - 0s 12ms/step - loss: 1.9192 - accuracy: 0.5256 - val_loss: 1.8790 - val_accuracy: 0.5330\n",
      "Epoch 18/20\n",
      "16/16 [==============================] - 0s 12ms/step - loss: 1.8899 - accuracy: 0.5282 - val_loss: 1.8527 - val_accuracy: 0.5360\n",
      "Epoch 19/20\n",
      "16/16 [==============================] - 0s 12ms/step - loss: 1.8634 - accuracy: 0.5331 - val_loss: 1.8291 - val_accuracy: 0.5430\n",
      "Epoch 20/20\n",
      "16/16 [==============================] - 0s 12ms/step - loss: 1.8396 - accuracy: 0.5393 - val_loss: 1.8075 - val_accuracy: 0.5450\n"
     ]
    }
   ],
   "source": [
    "# validation data = Data on which to evaluate the loss and any model metrics at the end of each epoch.\n",
    "#                   The model will not be trained on this data.\n",
    "history = model.fit(partial_x_train, partial_y_train, epochs=20, batch_size=512, validation_data=(x_val, y_val))"
   ]
  },
  {
   "cell_type": "code",
   "execution_count": 91,
   "metadata": {},
   "outputs": [
    {
     "data": {
      "image/png": "[encoded data removed]",
      "text/plain": [
       "<Figure size 432x288 with 1 Axes>"
      ]
     },
     "metadata": {
      "needs_background": "light"
     },
     "output_type": "display_data"
    }
   ],
   "source": [
    "# Plotting the training and validation loss\n",
    "import matplotlib.pyplot as plt\n",
    "\n",
    "loss = history.history['loss']\n",
    "val_loss = history.history['val_loss']\n",
    "\n",
    "epochs = range(1, len(loss) + 1)\n",
    "\n",
    "plt.plot(epochs, loss, 'bo', label='Training loss')\n",
    "plt.plot(epochs, val_loss, 'b', label='Validation loss')\n",
    "plt.title('Training and validation loss')\n",
    "plt.xlabel('Epochs')\n",
    "plt.ylabel('Loss')\n",
    "plt.legend()\n",
    "plt.show()"
   ]
  },
  {
   "cell_type": "code",
   "execution_count": 92,
   "metadata": {},
   "outputs": [
    {
     "data": {
      "image/png": "[encoded data removed]",
      "text/plain": [
       "<Figure size 432x288 with 1 Axes>"
      ]
     },
     "metadata": {
      "needs_background": "light"
     },
     "output_type": "display_data"
    }
   ],
   "source": [
    "# Plotting the traning and validation accuracy\n",
    "plt.clf()\n",
    "acc = history.history['accuracy']\n",
    "val_acc = history.history['val_accuracy']\n",
    "plt.plot(epochs, acc, 'bo', label='Training acc')\n",
    "plt.plot(epochs, val_acc, 'b', label='Validation acc')\n",
    "plt.title('Training and validation accuracy')\n",
    "plt.xlabel('Epochs')\n",
    "plt.ylabel('Accuracy')\n",
    "plt.legend()\n",
    "plt.show()"
   ]
  },
  {
   "cell_type": "markdown",
   "metadata": {},
   "source": [
    "## Task: Experiment with layers\n",
    "\n",
    "We have a output layer with 46 nodes. What happens to the accuracy when we reduce the number of nodes the second intermediate layer\n",
    "to 1?"
   ]
  },
  {
   "cell_type": "code",
   "execution_count": null,
   "metadata": {},
   "outputs": [],
   "source": []
  },
  {
   "cell_type": "code",
   "execution_count": null,
   "metadata": {},
   "outputs": [],
   "source": []
  },
  {
   "cell_type": "code",
   "execution_count": null,
   "metadata": {},
   "outputs": [],
   "source": []
  },
  {
   "cell_type": "code",
   "execution_count": null,
   "metadata": {},
   "outputs": [],
   "source": []
  },
  {
   "cell_type": "code",
   "execution_count": null,
   "metadata": {},
   "outputs": [],
   "source": []
  },
  {
   "cell_type": "markdown",
   "metadata": {},
   "source": [
    "### Solution:"
   ]
  },
  {
   "cell_type": "code",
   "execution_count": 93,
   "metadata": {},
   "outputs": [
    {
     "name": "stdout",
     "output_type": "stream",
     "text": [
      "Epoch 1/20\n",
      "13/63 [=====>........................] - ETA: 0s - loss: 3.8197 - accuracy: 0.2716  "
     ]
    },
    {
     "name": "stderr",
     "output_type": "stream",
     "text": [
      "2022-05-18 17:10:34.522373: I tensorflow/core/grappler/optimizers/custom_graph_optimizer_registry.cc:113] Plugin optimizer for device_type GPU is enabled.\n"
     ]
    },
    {
     "name": "stdout",
     "output_type": "stream",
     "text": [
      "63/63 [==============================] - 1s 11ms/step - loss: 3.7795 - accuracy: 0.3365 - val_loss: 3.7269 - val_accuracy: 0.3540\n",
      "Epoch 2/20\n",
      "13/63 [=====>........................] - ETA: 0s - loss: 3.7163 - accuracy: 0.3750"
     ]
    },
    {
     "name": "stderr",
     "output_type": "stream",
     "text": [
      "2022-05-18 17:10:35.188931: I tensorflow/core/grappler/optimizers/custom_graph_optimizer_registry.cc:113] Plugin optimizer for device_type GPU is enabled.\n"
     ]
    },
    {
     "name": "stdout",
     "output_type": "stream",
     "text": [
      "63/63 [==============================] - 1s 10ms/step - loss: 3.6802 - accuracy: 0.3514 - val_loss: 3.6283 - val_accuracy: 0.3540\n",
      "Epoch 3/20\n",
      "63/63 [==============================] - 1s 9ms/step - loss: 3.5840 - accuracy: 0.3514 - val_loss: 3.5324 - val_accuracy: 0.3540\n",
      "Epoch 4/20\n",
      "63/63 [==============================] - 1s 9ms/step - loss: 3.4904 - accuracy: 0.3514 - val_loss: 3.4391 - val_accuracy: 0.3540\n",
      "Epoch 5/20\n",
      "63/63 [==============================] - 1s 9ms/step - loss: 3.3989 - accuracy: 0.3514 - val_loss: 3.3469 - val_accuracy: 0.3540\n",
      "Epoch 6/20\n",
      "63/63 [==============================] - 1s 9ms/step - loss: 3.3065 - accuracy: 0.3514 - val_loss: 3.2515 - val_accuracy: 0.3540\n",
      "Epoch 7/20\n",
      "63/63 [==============================] - 1s 9ms/step - loss: 3.2055 - accuracy: 0.3514 - val_loss: 3.1399 - val_accuracy: 0.3540\n",
      "Epoch 8/20\n",
      "63/63 [==============================] - 1s 10ms/step - loss: 3.0747 - accuracy: 0.3514 - val_loss: 2.9795 - val_accuracy: 0.3540\n",
      "Epoch 9/20\n",
      "63/63 [==============================] - 1s 9ms/step - loss: 2.8747 - accuracy: 0.3514 - val_loss: 2.7404 - val_accuracy: 0.3540\n",
      "Epoch 10/20\n",
      "63/63 [==============================] - 1s 11ms/step - loss: 2.6451 - accuracy: 0.3514 - val_loss: 2.5496 - val_accuracy: 0.3540\n",
      "Epoch 11/20\n",
      "63/63 [==============================] - 1s 10ms/step - loss: 2.5107 - accuracy: 0.3514 - val_loss: 2.4610 - val_accuracy: 0.3540\n",
      "Epoch 12/20\n",
      "63/63 [==============================] - 1s 10ms/step - loss: 2.4436 - accuracy: 0.3514 - val_loss: 2.4088 - val_accuracy: 0.3540\n",
      "Epoch 13/20\n",
      "63/63 [==============================] - 1s 10ms/step - loss: 2.3983 - accuracy: 0.3514 - val_loss: 2.3696 - val_accuracy: 0.3540\n",
      "Epoch 14/20\n",
      "63/63 [==============================] - 1s 10ms/step - loss: 2.3615 - accuracy: 0.3514 - val_loss: 2.3355 - val_accuracy: 0.3540\n",
      "Epoch 15/20\n",
      "63/63 [==============================] - 1s 9ms/step - loss: 2.3300 - accuracy: 0.3695 - val_loss: 2.3059 - val_accuracy: 0.4460\n",
      "Epoch 16/20\n",
      "63/63 [==============================] - 1s 10ms/step - loss: 2.3019 - accuracy: 0.4549 - val_loss: 2.2795 - val_accuracy: 0.4610\n",
      "Epoch 17/20\n",
      "63/63 [==============================] - 1s 11ms/step - loss: 2.2766 - accuracy: 0.4660 - val_loss: 2.2554 - val_accuracy: 0.4830\n",
      "Epoch 18/20\n",
      "63/63 [==============================] - 1s 10ms/step - loss: 2.2537 - accuracy: 0.4742 - val_loss: 2.2339 - val_accuracy: 0.4910\n",
      "Epoch 19/20\n",
      "63/63 [==============================] - 1s 10ms/step - loss: 2.2328 - accuracy: 0.4862 - val_loss: 2.2141 - val_accuracy: 0.4960\n",
      "Epoch 20/20\n",
      "63/63 [==============================] - 1s 9ms/step - loss: 2.2134 - accuracy: 0.4921 - val_loss: 2.1962 - val_accuracy: 0.4960\n"
     ]
    }
   ],
   "source": [
    "#### Change number of nodes from 64 to 1\n",
    "#### This causes a information bottleneck!!!\n",
    "model = models.Sequential()\n",
    "model.add(layers.Dense(64, activation='relu', input_shape=(10000,)))\n",
    "model.add(layers.Dense(1, activation='relu'))\n",
    "model.add(layers.Dense(46, activation='softmax'))\n",
    "model.compile(optimizer='SGD',loss='categorical_crossentropy',metrics=['accuracy'])\n",
    "history = model.fit(partial_x_train, partial_y_train, epochs=20, batch_size=128, validation_data=(x_val, y_val))"
   ]
  },
  {
   "cell_type": "code",
   "execution_count": 94,
   "metadata": {
    "scrolled": true
   },
   "outputs": [
    {
     "data": {
      "image/png": "[encoded data removed]",
      "text/plain": [
       "<Figure size 432x288 with 1 Axes>"
      ]
     },
     "metadata": {
      "needs_background": "light"
     },
     "output_type": "display_data"
    }
   ],
   "source": [
    "loss = history.history['loss']\n",
    "val_loss = history.history['val_loss']\n",
    "\n",
    "epochs = range(1, len(loss) + 1)\n",
    "\n",
    "plt.plot(epochs, loss, 'bo', label='Training loss')\n",
    "plt.plot(epochs, val_loss, 'b', label='Validation loss')\n",
    "plt.title('Training and validation loss')\n",
    "plt.xlabel('Epochs')\n",
    "plt.ylabel('Loss')\n",
    "plt.legend()\n",
    "plt.show()"
   ]
  },
  {
   "cell_type": "code",
   "execution_count": 95,
   "metadata": {},
   "outputs": [
    {
     "data": {
      "image/png": "[encoded data removed]",
      "text/plain": [
       "<Figure size 432x288 with 1 Axes>"
      ]
     },
     "metadata": {
      "needs_background": "light"
     },
     "output_type": "display_data"
    }
   ],
   "source": [
    "# Plotting the traning and validation accuracy\n",
    "plt.clf()\n",
    "acc = history.history['accuracy']\n",
    "val_acc = history.history['val_accuracy']\n",
    "plt.plot(epochs, acc, 'bo', label='Training acc')\n",
    "plt.plot(epochs, val_acc, 'b', label='Validation acc')\n",
    "plt.title('Training and validation accuracy')\n",
    "plt.xlabel('Epochs')\n",
    "plt.ylabel('Accuracy')\n",
    "plt.legend()\n",
    "plt.show()"
   ]
  },
  {
   "cell_type": "markdown",
   "metadata": {},
   "source": [
    "## Task: Experiment with bag of words model\n",
    "The most basic bag of words model we used assigned a 1 to any word that is in the article, but it doesn't take into account **frequencies**.\n",
    "\n",
    "Can you think of a model that takes into account word frequencies?"
   ]
  },
  {
   "cell_type": "code",
   "execution_count": null,
   "metadata": {},
   "outputs": [],
   "source": []
  },
  {
   "cell_type": "code",
   "execution_count": null,
   "metadata": {},
   "outputs": [],
   "source": []
  },
  {
   "cell_type": "code",
   "execution_count": null,
   "metadata": {},
   "outputs": [],
   "source": []
  },
  {
   "cell_type": "code",
   "execution_count": null,
   "metadata": {},
   "outputs": [],
   "source": []
  },
  {
   "cell_type": "code",
   "execution_count": null,
   "metadata": {},
   "outputs": [],
   "source": []
  },
  {
   "cell_type": "markdown",
   "metadata": {},
   "source": [
    "### Solution"
   ]
  },
  {
   "cell_type": "code",
   "execution_count": 96,
   "metadata": {},
   "outputs": [],
   "source": [
    "# Bag Of Words Model\n",
    "def vectorize_sequences(sequences, dimension=10000):\n",
    "    results = np.zeros((len(sequences), dimension))\n",
    "    for i, sequence in enumerate(sequences):\n",
    "        for word in sequence:\n",
    "            results[i, word] += 1.\n",
    "    return results\n",
    "\n",
    "x_train = vectorize_sequences(train_data)\n",
    "x_test = vectorize_sequences(test_data)"
   ]
  },
  {
   "cell_type": "code",
   "execution_count": 97,
   "metadata": {},
   "outputs": [
    {
     "data": {
      "text/plain": [
       "array([[0., 1., 2., ..., 0., 0., 0.],\n",
       "       [0., 1., 5., ..., 0., 0., 0.],\n",
       "       [0., 1., 3., ..., 0., 0., 0.],\n",
       "       ...,\n",
       "       [0., 1., 8., ..., 0., 0., 0.],\n",
       "       [0., 1., 1., ..., 0., 0., 0.],\n",
       "       [0., 1., 2., ..., 0., 0., 0.]])"
      ]
     },
     "execution_count": 97,
     "metadata": {},
     "output_type": "execute_result"
    }
   ],
   "source": [
    "x_train"
   ]
  },
  {
   "cell_type": "code",
   "execution_count": 98,
   "metadata": {},
   "outputs": [
    {
     "name": "stdout",
     "output_type": "stream",
     "text": [
      "Epoch 1/20\n",
      "11/16 [===================>..........] - ETA: 0s - loss: 3.7067 - accuracy: 0.1916"
     ]
    },
    {
     "name": "stderr",
     "output_type": "stream",
     "text": [
      "2022-05-18 17:10:48.107401: I tensorflow/core/grappler/optimizers/custom_graph_optimizer_registry.cc:113] Plugin optimizer for device_type GPU is enabled.\n"
     ]
    },
    {
     "name": "stdout",
     "output_type": "stream",
     "text": [
      "16/16 [==============================] - 1s 23ms/step - loss: 3.6671 - accuracy: 0.2081 - val_loss: 3.5033 - val_accuracy: 0.3250\n",
      "Epoch 2/20\n",
      "11/16 [===================>..........] - ETA: 0s - loss: 3.4291 - accuracy: 0.4244"
     ]
    },
    {
     "name": "stderr",
     "output_type": "stream",
     "text": [
      "2022-05-18 17:10:48.457222: I tensorflow/core/grappler/optimizers/custom_graph_optimizer_registry.cc:113] Plugin optimizer for device_type GPU is enabled.\n"
     ]
    },
    {
     "name": "stdout",
     "output_type": "stream",
     "text": [
      "16/16 [==============================] - 0s 13ms/step - loss: 3.3831 - accuracy: 0.4427 - val_loss: 3.1755 - val_accuracy: 0.4920\n",
      "Epoch 3/20\n",
      "16/16 [==============================] - 0s 13ms/step - loss: 3.0085 - accuracy: 0.4967 - val_loss: 2.7896 - val_accuracy: 0.5140\n",
      "Epoch 4/20\n",
      "16/16 [==============================] - 0s 14ms/step - loss: 2.6581 - accuracy: 0.5134 - val_loss: 2.5072 - val_accuracy: 0.5270\n",
      "Epoch 5/20\n",
      "16/16 [==============================] - 0s 14ms/step - loss: 2.4230 - accuracy: 0.5264 - val_loss: 2.3287 - val_accuracy: 0.5360\n",
      "Epoch 6/20\n",
      "16/16 [==============================] - 0s 13ms/step - loss: 2.2670 - accuracy: 0.5441 - val_loss: 2.2030 - val_accuracy: 0.5570\n",
      "Epoch 7/20\n",
      "16/16 [==============================] - 0s 12ms/step - loss: 2.1504 - accuracy: 0.5600 - val_loss: 2.1014 - val_accuracy: 0.5610\n",
      "Epoch 8/20\n",
      "16/16 [==============================] - 0s 12ms/step - loss: 2.0581 - accuracy: 0.5717 - val_loss: 2.0180 - val_accuracy: 0.5710\n",
      "Epoch 9/20\n",
      "16/16 [==============================] - 0s 12ms/step - loss: 1.9828 - accuracy: 0.5801 - val_loss: 1.9462 - val_accuracy: 0.5810\n",
      "Epoch 10/20\n",
      "16/16 [==============================] - 0s 12ms/step - loss: 1.9200 - accuracy: 0.5887 - val_loss: 1.8884 - val_accuracy: 0.5860\n",
      "Epoch 11/20\n",
      "16/16 [==============================] - 0s 13ms/step - loss: 1.8674 - accuracy: 0.5963 - val_loss: 1.8365 - val_accuracy: 0.5960\n",
      "Epoch 12/20\n",
      "16/16 [==============================] - 0s 13ms/step - loss: 1.8202 - accuracy: 0.6035 - val_loss: 1.7947 - val_accuracy: 0.6110\n",
      "Epoch 13/20\n",
      "16/16 [==============================] - 0s 14ms/step - loss: 1.7797 - accuracy: 0.6105 - val_loss: 1.7558 - val_accuracy: 0.6170\n",
      "Epoch 14/20\n",
      "16/16 [==============================] - 0s 14ms/step - loss: 1.7441 - accuracy: 0.6171 - val_loss: 1.7240 - val_accuracy: 0.6150\n",
      "Epoch 15/20\n",
      "16/16 [==============================] - 0s 12ms/step - loss: 1.7121 - accuracy: 0.6234 - val_loss: 1.6969 - val_accuracy: 0.6240\n",
      "Epoch 16/20\n",
      "16/16 [==============================] - 0s 12ms/step - loss: 1.6829 - accuracy: 0.6310 - val_loss: 1.6674 - val_accuracy: 0.6220\n",
      "Epoch 17/20\n",
      "16/16 [==============================] - 0s 12ms/step - loss: 1.6558 - accuracy: 0.6332 - val_loss: 1.6417 - val_accuracy: 0.6310\n",
      "Epoch 18/20\n",
      "16/16 [==============================] - 0s 12ms/step - loss: 1.6314 - accuracy: 0.6396 - val_loss: 1.6207 - val_accuracy: 0.6270\n",
      "Epoch 19/20\n",
      "16/16 [==============================] - 0s 13ms/step - loss: 1.6085 - accuracy: 0.6422 - val_loss: 1.6036 - val_accuracy: 0.6370\n",
      "Epoch 20/20\n",
      "16/16 [==============================] - 0s 13ms/step - loss: 1.5879 - accuracy: 0.6483 - val_loss: 1.5827 - val_accuracy: 0.6440\n"
     ]
    }
   ],
   "source": [
    "# Bag Of Words Model\n",
    "def vectorize_sequences(sequences, dimension=10000):\n",
    "    results = np.zeros((len(sequences), dimension))\n",
    "    for i, sequence in enumerate(sequences):\n",
    "        for word in sequence:\n",
    "            results[i, word] += 1.\n",
    "    return results\n",
    "\n",
    "x_train = vectorize_sequences(train_data)\n",
    "x_test = vectorize_sequences(test_data)\n",
    "\n",
    "# The raw network architecture\n",
    "model = models.Sequential()\n",
    "model.add(layers.Dense(64, activation='relu', input_shape=(10000,)))\n",
    "model.add(layers.Dense(64, activation='relu'))\n",
    "model.add(layers.Dense(46, activation='softmax'))\n",
    "\n",
    "# Compile\n",
    "model.compile(optimizer='SGD', loss='categorical_crossentropy', metrics=['accuracy'])\n",
    "\n",
    "# Transform to \"dummy\" columns \n",
    "from keras.utils.np_utils import to_categorical\n",
    "one_hot_train_labels = to_categorical(train_labels)\n",
    "one_hot_test_labels = to_categorical(test_labels)\n",
    "\n",
    "# Validation Set\n",
    "x_val = x_train[:1000]\n",
    "partial_x_train = x_train[1000:]\n",
    "y_val = one_hot_train_labels[:1000]\n",
    "partial_y_train = one_hot_train_labels[1000:]\n",
    "\n",
    "# Fit\n",
    "history = model.fit(partial_x_train, partial_y_train, epochs=20, batch_size=512, validation_data=(x_val, y_val))"
   ]
  },
  {
   "cell_type": "code",
   "execution_count": 99,
   "metadata": {
    "scrolled": true
   },
   "outputs": [
    {
     "data": {
      "image/png": "[encoded data removed]",
      "text/plain": [
       "<Figure size 432x288 with 1 Axes>"
      ]
     },
     "metadata": {
      "needs_background": "light"
     },
     "output_type": "display_data"
    }
   ],
   "source": [
    "loss = history.history['loss']\n",
    "val_loss = history.history['val_loss']\n",
    "\n",
    "epochs = range(1, len(loss) + 1)\n",
    "\n",
    "plt.plot(epochs, loss, 'bo', label='Training loss')\n",
    "plt.plot(epochs, val_loss, 'b', label='Validation loss')\n",
    "plt.title('Training and validation loss')\n",
    "plt.xlabel('Epochs')\n",
    "plt.ylabel('Loss')\n",
    "plt.legend()\n",
    "plt.show()"
   ]
  },
  {
   "cell_type": "code",
   "execution_count": 100,
   "metadata": {},
   "outputs": [
    {
     "data": {
      "image/png": "[encoded data removed]",
      "text/plain": [
       "<Figure size 432x288 with 1 Axes>"
      ]
     },
     "metadata": {
      "needs_background": "light"
     },
     "output_type": "display_data"
    }
   ],
   "source": [
    "# Plotting the traning and validation accuracy\n",
    "plt.clf()\n",
    "acc = history.history['accuracy']\n",
    "val_acc = history.history['val_accuracy']\n",
    "plt.plot(epochs, acc, 'bo', label='Training acc')\n",
    "plt.plot(epochs, val_acc, 'b', label='Validation acc')\n",
    "plt.title('Training and validation accuracy')\n",
    "plt.xlabel('Epochs')\n",
    "plt.ylabel('Accuracy')\n",
    "plt.legend()\n",
    "plt.show()"
   ]
  },
  {
   "cell_type": "markdown",
   "metadata": {},
   "source": [
    "### Take-Home Message:\n",
    "\n",
    "1. N Classes => N Output Nodes\n",
    "2. Output Layer should be a SoftMAX Activation function (provided that you want to a assign each data point to ONE class)\n",
    "3. Categorical Crossentropy is in many cases the loss function you should use for classification\n",
    "4. Avoid Information Bottlenecks (i.e., don't use hidden layers with too few nodes)\n",
    "5. Pre-processing inputs in a clever way can be more important than network tuning!"
   ]
  },
  {
   "cell_type": "markdown",
   "metadata": {},
   "source": [
    "### 2. Regression with Deep Learning"
   ]
  },
  {
   "cell_type": "code",
   "execution_count": 101,
   "metadata": {},
   "outputs": [],
   "source": [
    "from tensorflow.keras.datasets import boston_housing\n",
    "(train_data, train_targets), (test_data, test_targets) = boston_housing.load_data()"
   ]
  },
  {
   "cell_type": "code",
   "execution_count": 102,
   "metadata": {},
   "outputs": [
    {
     "data": {
      "text/plain": [
       "(404, 13)"
      ]
     },
     "execution_count": 102,
     "metadata": {},
     "output_type": "execute_result"
    }
   ],
   "source": [
    "# Traning Data\n",
    "train_data.shape"
   ]
  },
  {
   "cell_type": "code",
   "execution_count": 103,
   "metadata": {},
   "outputs": [
    {
     "data": {
      "text/plain": [
       "(102, 13)"
      ]
     },
     "execution_count": 103,
     "metadata": {},
     "output_type": "execute_result"
    }
   ],
   "source": [
    "# Test Data\n",
    "test_data.shape"
   ]
  },
  {
   "cell_type": "code",
   "execution_count": 104,
   "metadata": {},
   "outputs": [
    {
     "data": {
      "text/plain": [
       "array([15.2, 42.3, 50. , 21.1, 17.7, 18.5, 11.3, 15.6, 15.6, 14.4, 12.1,\n",
       "       17.9, 23.1, 19.9, 15.7,  8.8, 50. , 22.5, 24.1, 27.5, 10.9, 30.8,\n",
       "       32.9, 24. , 18.5, 13.3, 22.9, 34.7, 16.6, 17.5, 22.3, 16.1, 14.9,\n",
       "       23.1, 34.9, 25. , 13.9, 13.1, 20.4, 20. , 15.2, 24.7, 22.2, 16.7,\n",
       "       12.7, 15.6, 18.4, 21. , 30.1, 15.1, 18.7,  9.6, 31.5, 24.8, 19.1,\n",
       "       22. , 14.5, 11. , 32. , 29.4, 20.3, 24.4, 14.6, 19.5, 14.1, 14.3,\n",
       "       15.6, 10.5,  6.3, 19.3, 19.3, 13.4, 36.4, 17.8, 13.5, 16.5,  8.3,\n",
       "       14.3, 16. , 13.4, 28.6, 43.5, 20.2, 22. , 23. , 20.7, 12.5, 48.5,\n",
       "       14.6, 13.4, 23.7, 50. , 21.7, 39.8, 38.7, 22.2, 34.9, 22.5, 31.1,\n",
       "       28.7, 46. , 41.7, 21. , 26.6, 15. , 24.4, 13.3, 21.2, 11.7, 21.7,\n",
       "       19.4, 50. , 22.8, 19.7, 24.7, 36.2, 14.2, 18.9, 18.3, 20.6, 24.6,\n",
       "       18.2,  8.7, 44. , 10.4, 13.2, 21.2, 37. , 30.7, 22.9, 20. , 19.3,\n",
       "       31.7, 32. , 23.1, 18.8, 10.9, 50. , 19.6,  5. , 14.4, 19.8, 13.8,\n",
       "       19.6, 23.9, 24.5, 25. , 19.9, 17.2, 24.6, 13.5, 26.6, 21.4, 11.9,\n",
       "       22.6, 19.6,  8.5, 23.7, 23.1, 22.4, 20.5, 23.6, 18.4, 35.2, 23.1,\n",
       "       27.9, 20.6, 23.7, 28. , 13.6, 27.1, 23.6, 20.6, 18.2, 21.7, 17.1,\n",
       "        8.4, 25.3, 13.8, 22.2, 18.4, 20.7, 31.6, 30.5, 20.3,  8.8, 19.2,\n",
       "       19.4, 23.1, 23. , 14.8, 48.8, 22.6, 33.4, 21.1, 13.6, 32.2, 13.1,\n",
       "       23.4, 18.9, 23.9, 11.8, 23.3, 22.8, 19.6, 16.7, 13.4, 22.2, 20.4,\n",
       "       21.8, 26.4, 14.9, 24.1, 23.8, 12.3, 29.1, 21. , 19.5, 23.3, 23.8,\n",
       "       17.8, 11.5, 21.7, 19.9, 25. , 33.4, 28.5, 21.4, 24.3, 27.5, 33.1,\n",
       "       16.2, 23.3, 48.3, 22.9, 22.8, 13.1, 12.7, 22.6, 15. , 15.3, 10.5,\n",
       "       24. , 18.5, 21.7, 19.5, 33.2, 23.2,  5. , 19.1, 12.7, 22.3, 10.2,\n",
       "       13.9, 16.3, 17. , 20.1, 29.9, 17.2, 37.3, 45.4, 17.8, 23.2, 29. ,\n",
       "       22. , 18. , 17.4, 34.6, 20.1, 25. , 15.6, 24.8, 28.2, 21.2, 21.4,\n",
       "       23.8, 31. , 26.2, 17.4, 37.9, 17.5, 20. ,  8.3, 23.9,  8.4, 13.8,\n",
       "        7.2, 11.7, 17.1, 21.6, 50. , 16.1, 20.4, 20.6, 21.4, 20.6, 36.5,\n",
       "        8.5, 24.8, 10.8, 21.9, 17.3, 18.9, 36.2, 14.9, 18.2, 33.3, 21.8,\n",
       "       19.7, 31.6, 24.8, 19.4, 22.8,  7.5, 44.8, 16.8, 18.7, 50. , 50. ,\n",
       "       19.5, 20.1, 50. , 17.2, 20.8, 19.3, 41.3, 20.4, 20.5, 13.8, 16.5,\n",
       "       23.9, 20.6, 31.5, 23.3, 16.8, 14. , 33.8, 36.1, 12.8, 18.3, 18.7,\n",
       "       19.1, 29. , 30.1, 50. , 50. , 22. , 11.9, 37.6, 50. , 22.7, 20.8,\n",
       "       23.5, 27.9, 50. , 19.3, 23.9, 22.6, 15.2, 21.7, 19.2, 43.8, 20.3,\n",
       "       33.2, 19.9, 22.5, 32.7, 22. , 17.1, 19. , 15. , 16.1, 25.1, 23.7,\n",
       "       28.7, 37.2, 22.6, 16.4, 25. , 29.8, 22.1, 17.4, 18.1, 30.3, 17.5,\n",
       "       24.7, 12.6, 26.5, 28.7, 13.3, 10.4, 24.4, 23. , 20. , 17.8,  7. ,\n",
       "       11.8, 24.4, 13.8, 19.4, 25.2, 19.4, 19.4, 29.1])"
      ]
     },
     "execution_count": 104,
     "metadata": {},
     "output_type": "execute_result"
    }
   ],
   "source": [
    "# Numerical Targets \n",
    "train_targets"
   ]
  },
  {
   "cell_type": "markdown",
   "metadata": {},
   "source": [
    "#### Preparing the data"
   ]
  },
  {
   "cell_type": "code",
   "execution_count": 105,
   "metadata": {},
   "outputs": [],
   "source": [
    "# Standardizing the values (center around 0, std of 1)\n",
    "mean = train_data.mean(axis=0)\n",
    "train_data -= mean\n",
    "std = train_data.std(axis=0)\n",
    "train_data /= std\n",
    "\n",
    "test_data -= mean\n",
    "test_data /= std"
   ]
  },
  {
   "cell_type": "code",
   "execution_count": 106,
   "metadata": {},
   "outputs": [],
   "source": [
    "#### Building the network\n",
    "\n",
    "from tensorflow.keras import models\n",
    "from tensorflow.keras import layers\n",
    "\n",
    "def build_model():\n",
    "    model = models.Sequential()\n",
    "    model.add(layers.Dense(64, activation='relu', input_shape=(train_data.shape[1],)))\n",
    "    model.add(layers.Dense(64, activation='relu'))\n",
    "    model.add(layers.Dense(1))\n",
    "    # MSE = Mean Squared Error\n",
    "    # MAE = Mean Absolut Error\n",
    "    # RMSPROP adaptive learning method based on Stochastic Gradient Descent\n",
    "    # If you use SGD, your network might not converge....\n",
    "    model.compile(optimizer='rmsprob', loss='mse', metrics=['mae'])\n",
    "    return model"
   ]
  },
  {
   "cell_type": "markdown",
   "metadata": {},
   "source": [
    "#### Introducing cross validation"
   ]
  },
  {
   "cell_type": "markdown",
   "metadata": {},
   "source": [
    "Since we have so little data, the variance of the validation set might be high. To cope, we use k-fold cross validation."
   ]
  },
  {
   "cell_type": "code",
   "execution_count": 107,
   "metadata": {},
   "outputs": [
    {
     "name": "stdout",
     "output_type": "stream",
     "text": [
      "processing fold # 0\n"
     ]
    },
    {
     "ename": "ValueError",
     "evalue": "Unknown optimizer: rmsprob. Please ensure this object is passed to the `custom_objects` argument. See https://www.tensorflow.org/guide/keras/save_and_serialize#registering_the_custom_object for details.",
     "output_type": "error",
     "traceback": [
      "\u001b[0;31m---------------------------------------------------------------------------\u001b[0m",
      "\u001b[0;31mValueError\u001b[0m                                Traceback (most recent call last)",
      "Input \u001b[0;32mIn [107]\u001b[0m, in \u001b[0;36m<cell line: 8>\u001b[0;34m()\u001b[0m\n\u001b[1;32m     20\u001b[0m partial_train_targets \u001b[38;5;241m=\u001b[39m np\u001b[38;5;241m.\u001b[39mconcatenate(\n\u001b[1;32m     21\u001b[0m     [\n\u001b[1;32m     22\u001b[0m         train_targets[:i \u001b[38;5;241m*\u001b[39m num_val_samples],\n\u001b[1;32m     23\u001b[0m         train_targets[(i \u001b[38;5;241m+\u001b[39m \u001b[38;5;241m1\u001b[39m) \u001b[38;5;241m*\u001b[39m num_val_samples:]\n\u001b[1;32m     24\u001b[0m     ],\n\u001b[1;32m     25\u001b[0m     axis\u001b[38;5;241m=\u001b[39m\u001b[38;5;241m0\u001b[39m)\n\u001b[1;32m     27\u001b[0m \u001b[38;5;66;03m# Build Model\u001b[39;00m\n\u001b[0;32m---> 28\u001b[0m model \u001b[38;5;241m=\u001b[39m \u001b[43mbuild_model\u001b[49m\u001b[43m(\u001b[49m\u001b[43m)\u001b[49m\n\u001b[1;32m     30\u001b[0m \u001b[38;5;66;03m# Fit Model\u001b[39;00m\n\u001b[1;32m     31\u001b[0m model\u001b[38;5;241m.\u001b[39mfit(partial_train_data, partial_train_targets, epochs\u001b[38;5;241m=\u001b[39mnum_epochs, batch_size\u001b[38;5;241m=\u001b[39m\u001b[38;5;241m1\u001b[39m, verbose\u001b[38;5;241m=\u001b[39m\u001b[38;5;241m0\u001b[39m)\n",
      "Input \u001b[0;32mIn [106]\u001b[0m, in \u001b[0;36mbuild_model\u001b[0;34m()\u001b[0m\n\u001b[1;32m     10\u001b[0m model\u001b[38;5;241m.\u001b[39madd(layers\u001b[38;5;241m.\u001b[39mDense(\u001b[38;5;241m1\u001b[39m))\n\u001b[1;32m     11\u001b[0m \u001b[38;5;66;03m# MSE = Mean Squared Error\u001b[39;00m\n\u001b[1;32m     12\u001b[0m \u001b[38;5;66;03m# MAE = Mean Absolut Error\u001b[39;00m\n\u001b[1;32m     13\u001b[0m \u001b[38;5;66;03m# RMSPROP adaptive learning method based on Stochastic Gradient Descent\u001b[39;00m\n\u001b[1;32m     14\u001b[0m \u001b[38;5;66;03m# If you use SGD, your network might not converge....\u001b[39;00m\n\u001b[0;32m---> 15\u001b[0m \u001b[43mmodel\u001b[49m\u001b[38;5;241;43m.\u001b[39;49m\u001b[43mcompile\u001b[49m\u001b[43m(\u001b[49m\u001b[43moptimizer\u001b[49m\u001b[38;5;241;43m=\u001b[39;49m\u001b[38;5;124;43m'\u001b[39;49m\u001b[38;5;124;43mrmsprob\u001b[39;49m\u001b[38;5;124;43m'\u001b[39;49m\u001b[43m,\u001b[49m\u001b[43m \u001b[49m\u001b[43mloss\u001b[49m\u001b[38;5;241;43m=\u001b[39;49m\u001b[38;5;124;43m'\u001b[39;49m\u001b[38;5;124;43mmse\u001b[39;49m\u001b[38;5;124;43m'\u001b[39;49m\u001b[43m,\u001b[49m\u001b[43m \u001b[49m\u001b[43mmetrics\u001b[49m\u001b[38;5;241;43m=\u001b[39;49m\u001b[43m[\u001b[49m\u001b[38;5;124;43m'\u001b[39;49m\u001b[38;5;124;43mmae\u001b[39;49m\u001b[38;5;124;43m'\u001b[39;49m\u001b[43m]\u001b[49m\u001b[43m)\u001b[49m\n\u001b[1;32m     16\u001b[0m \u001b[38;5;28;01mreturn\u001b[39;00m model\n",
      "File \u001b[0;32m~/miniconda3/envs/AAA/lib/python3.9/site-packages/keras/utils/traceback_utils.py:67\u001b[0m, in \u001b[0;36mfilter_traceback.<locals>.error_handler\u001b[0;34m(*args, **kwargs)\u001b[0m\n\u001b[1;32m     65\u001b[0m \u001b[38;5;28;01mexcept\u001b[39;00m \u001b[38;5;167;01mException\u001b[39;00m \u001b[38;5;28;01mas\u001b[39;00m e:  \u001b[38;5;66;03m# pylint: disable=broad-except\u001b[39;00m\n\u001b[1;32m     66\u001b[0m   filtered_tb \u001b[38;5;241m=\u001b[39m _process_traceback_frames(e\u001b[38;5;241m.\u001b[39m__traceback__)\n\u001b[0;32m---> 67\u001b[0m   \u001b[38;5;28;01mraise\u001b[39;00m e\u001b[38;5;241m.\u001b[39mwith_traceback(filtered_tb) \u001b[38;5;28;01mfrom\u001b[39;00m \u001b[38;5;28mNone\u001b[39m\n\u001b[1;32m     68\u001b[0m \u001b[38;5;28;01mfinally\u001b[39;00m:\n\u001b[1;32m     69\u001b[0m   \u001b[38;5;28;01mdel\u001b[39;00m filtered_tb\n",
      "File \u001b[0;32m~/miniconda3/envs/AAA/lib/python3.9/site-packages/keras/utils/generic_utils.py:562\u001b[0m, in \u001b[0;36mclass_and_config_for_serialized_keras_object\u001b[0;34m(config, module_objects, custom_objects, printable_module_name)\u001b[0m\n\u001b[1;32m    560\u001b[0m \u001b[38;5;28mcls\u001b[39m \u001b[38;5;241m=\u001b[39m get_registered_object(class_name, custom_objects, module_objects)\n\u001b[1;32m    561\u001b[0m \u001b[38;5;28;01mif\u001b[39;00m \u001b[38;5;28mcls\u001b[39m \u001b[38;5;129;01mis\u001b[39;00m \u001b[38;5;28;01mNone\u001b[39;00m:\n\u001b[0;32m--> 562\u001b[0m   \u001b[38;5;28;01mraise\u001b[39;00m \u001b[38;5;167;01mValueError\u001b[39;00m(\n\u001b[1;32m    563\u001b[0m       \u001b[38;5;124mf\u001b[39m\u001b[38;5;124m'\u001b[39m\u001b[38;5;124mUnknown \u001b[39m\u001b[38;5;132;01m{\u001b[39;00mprintable_module_name\u001b[38;5;132;01m}\u001b[39;00m\u001b[38;5;124m: \u001b[39m\u001b[38;5;132;01m{\u001b[39;00mclass_name\u001b[38;5;132;01m}\u001b[39;00m\u001b[38;5;124m. Please ensure this \u001b[39m\u001b[38;5;124m'\u001b[39m\n\u001b[1;32m    564\u001b[0m       \u001b[38;5;124m'\u001b[39m\u001b[38;5;124mobject is passed to the `custom_objects` argument. See \u001b[39m\u001b[38;5;124m'\u001b[39m\n\u001b[1;32m    565\u001b[0m       \u001b[38;5;124m'\u001b[39m\u001b[38;5;124mhttps://www.tensorflow.org/guide/keras/save_and_serialize\u001b[39m\u001b[38;5;124m'\u001b[39m\n\u001b[1;32m    566\u001b[0m       \u001b[38;5;124m'\u001b[39m\u001b[38;5;124m#registering_the_custom_object for details.\u001b[39m\u001b[38;5;124m'\u001b[39m)\n\u001b[1;32m    568\u001b[0m cls_config \u001b[38;5;241m=\u001b[39m config[\u001b[38;5;124m'\u001b[39m\u001b[38;5;124mconfig\u001b[39m\u001b[38;5;124m'\u001b[39m]\n\u001b[1;32m    569\u001b[0m \u001b[38;5;66;03m# Check if `cls_config` is a list. If it is a list, return the class and the\u001b[39;00m\n\u001b[1;32m    570\u001b[0m \u001b[38;5;66;03m# associated class configs for recursively deserialization. This case will\u001b[39;00m\n\u001b[1;32m    571\u001b[0m \u001b[38;5;66;03m# happen on the old version of sequential model (e.g. `keras_version` ==\u001b[39;00m\n\u001b[1;32m    572\u001b[0m \u001b[38;5;66;03m# \"2.0.6\"), which is serialized in a different structure, for example\u001b[39;00m\n\u001b[1;32m    573\u001b[0m \u001b[38;5;66;03m# \"{'class_name': 'Sequential',\u001b[39;00m\n\u001b[1;32m    574\u001b[0m \u001b[38;5;66;03m#   'config': [{'class_name': 'Embedding', 'config': ...}, {}, ...]}\".\u001b[39;00m\n",
      "\u001b[0;31mValueError\u001b[0m: Unknown optimizer: rmsprob. Please ensure this object is passed to the `custom_objects` argument. See https://www.tensorflow.org/guide/keras/save_and_serialize#registering_the_custom_object for details."
     ]
    }
   ],
   "source": [
    "import numpy as np\n",
    "\n",
    "k = 4\n",
    "num_val_samples = len(train_data) // k # returns an integer instead of float\n",
    "num_epochs = 100\n",
    "all_scores = []\n",
    "\n",
    "for i in range(k):\n",
    "    print('processing fold #', i) \n",
    "    val_data = train_data[i * num_val_samples: (i + 1) * num_val_samples]    # Slice Get Validation Data \n",
    "    val_targets = train_targets[i * num_val_samples: (i + 1) * num_val_samples] # Slice Val. Target Data\n",
    "    \n",
    "    # Exclude validation data from the training data\n",
    "    partial_train_data = np.concatenate(\n",
    "        [\n",
    "            train_data[:i * num_val_samples],\n",
    "            train_data[(i + 1) * num_val_samples:]\n",
    "        ],\n",
    "        axis=0)\n",
    "    partial_train_targets = np.concatenate(\n",
    "        [\n",
    "            train_targets[:i * num_val_samples],\n",
    "            train_targets[(i + 1) * num_val_samples:]\n",
    "        ],\n",
    "        axis=0)\n",
    "    \n",
    "    # Build Model\n",
    "    model = build_model()\n",
    "    \n",
    "    # Fit Model\n",
    "    model.fit(partial_train_data, partial_train_targets, epochs=num_epochs, batch_size=1, verbose=0)\n",
    "    \n",
    "    # Evaluate Model\n",
    "    val_mse, val_mae = model.evaluate(val_data, val_targets, verbose=0)\n",
    "    \n",
    "    # Add Mean Absolut Error to All Scored List\n",
    "    all_scores.append(val_mae)"
   ]
  },
  {
   "cell_type": "code",
   "execution_count": null,
   "metadata": {},
   "outputs": [],
   "source": [
    "# Get MAE for each k-fold set\n",
    "all_scores"
   ]
  },
  {
   "cell_type": "code",
   "execution_count": null,
   "metadata": {},
   "outputs": [],
   "source": [
    "# Compute Average\n",
    "np.mean(all_scores)"
   ]
  },
  {
   "cell_type": "code",
   "execution_count": null,
   "metadata": {},
   "outputs": [],
   "source": [
    "# Okay, lets analyze how the validation error depends on the number of epochs \n",
    "# Rerun..."
   ]
  },
  {
   "cell_type": "code",
   "execution_count": null,
   "metadata": {},
   "outputs": [],
   "source": [
    "import numpy as np\n",
    "\n",
    "k = 2\n",
    "num_val_samples = len(train_data) // k # returns an integer instead of float\n",
    "num_epochs = 500\n",
    "all_mae_histories = [] # <-- This is changed\n",
    "\n",
    "for i in range(k):\n",
    "    print('processing fold #', i) \n",
    "    val_data = train_data[i * num_val_samples: (i + 1) * num_val_samples]    # Slice Get Validation Data \n",
    "    val_targets = train_targets[i * num_val_samples: (i + 1) * num_val_samples] # Slice Val. Target Data\n",
    "    \n",
    "    # Exclude validation data from the training data\n",
    "    partial_train_data = np.concatenate(\n",
    "        [\n",
    "            train_data[:i * num_val_samples],\n",
    "            train_data[(i + 1) * num_val_samples:]\n",
    "        ],\n",
    "        axis=0)\n",
    "    partial_train_targets = np.concatenate(\n",
    "        [\n",
    "            train_targets[:i * num_val_samples],\n",
    "            train_targets[(i + 1) * num_val_samples:]\n",
    "        ],\n",
    "        axis=0)\n",
    "    \n",
    "    # Build Model\n",
    "    model = build_model()\n",
    "    \n",
    "    # Fit Model # <-- This is changed\n",
    "    history = model.fit(partial_train_data, partial_train_targets, epochs=num_epochs, batch_size=1, verbose=0)\n",
    "    \n",
    "    # Cache MAE History  # <-- This is changed\n",
    "    mae_history = history.history['mae']  \n",
    "    \n",
    "    # Add Mean Absolut Error to All Scored List # <-- This is changed\n",
    "    all_mae_histories.append(mae_history)"
   ]
  },
  {
   "cell_type": "code",
   "execution_count": null,
   "metadata": {},
   "outputs": [],
   "source": [
    "# Each iteration generated a history object w\n",
    "average_mae_history = [np.mean([x[i] for x in all_mae_histories]) for i in range(num_epochs)]"
   ]
  },
  {
   "cell_type": "code",
   "execution_count": null,
   "metadata": {},
   "outputs": [],
   "source": [
    "# Plot MAE History\n",
    "import matplotlib.pyplot as plt\n",
    "plt.plot(range(1, len(average_mae_history) + 1), average_mae_history)\n",
    "plt.xlabel('Epochs')\n",
    "plt.ylabel('Validation MAE')\n",
    "plt.show()"
   ]
  },
  {
   "cell_type": "code",
   "execution_count": null,
   "metadata": {},
   "outputs": [],
   "source": [
    "# Evaluating the Model with the Test Set\n",
    "model = build_model()\n",
    "model.fit(train_data, train_targets, epochs=80, batch_size=16, verbose=0)\n",
    "test_mse_score, test_mae_score = model.evaluate(test_data, test_targets)"
   ]
  },
  {
   "cell_type": "code",
   "execution_count": null,
   "metadata": {},
   "outputs": [],
   "source": [
    "# Voila.\n",
    "test_mae_score"
   ]
  },
  {
   "cell_type": "markdown",
   "metadata": {},
   "source": [
    "#### Take-Home Message\n",
    "1. Mean squared error (MSE) is a loss function commonly used for regression.\n",
    "2. A common regression metric is mean absolute error.\n",
    "3. When features in the input data have values in different ranges, each feature should be scaled independently as a preprocessing step.\n",
    "4. When there is little data available, using K-fold validation is a great way to reliably evaluate a model.\n",
    "5. If there is little data, use small network. Otherwise your network might overfit."
   ]
  },
  {
   "cell_type": "code",
   "execution_count": null,
   "metadata": {},
   "outputs": [],
   "source": []
  }
 ],
 "metadata": {
  "kernelspec": {
   "display_name": "Python 3 (ipykernel)",
   "language": "python",
   "name": "python3"
  },
  "language_info": {
   "codemirror_mode": {
    "name": "ipython",
    "version": 3
   },
   "file_extension": ".py",
   "mimetype": "text/x-python",
   "name": "python",
   "nbconvert_exporter": "python",
   "pygments_lexer": "ipython3",
   "version": "3.9.12"
  }
 },
 "nbformat": 4,
 "nbformat_minor": 2
}
